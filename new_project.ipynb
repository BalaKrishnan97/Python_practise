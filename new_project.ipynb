{
 "cells": [
  {
   "cell_type": "markdown",
   "id": "156fbd68",
   "metadata": {},
   "source": [
    "### Tasks"
   ]
  },
  {
   "cell_type": "code",
   "execution_count": null,
   "id": "81e83aa3",
   "metadata": {},
   "outputs": [],
   "source": [
    "'''Number guessing game\n",
    "User should enter a range of number and python will pick a number \n",
    "user should enter a number and python will check whether it is a same or not \n",
    "user has only 7 chances'''"
   ]
  },
  {
   "cell_type": "code",
   "execution_count": null,
   "id": "acc259b6",
   "metadata": {},
   "outputs": [],
   "source": [
    "import random\n",
    "first_num = int(input('Enter the 1st number: '))\n",
    "last_num = int(input('Enter the last number: '))\n",
    "random_num = round(random.uniform(first_num,last_num))\n",
    "print(f'random num is {random_num}')\n",
    "chance = 0\n",
    "while chance <7:\n",
    "    user_num = int(input('Enter the guessing number: '))\n",
    "    if user_num == random_num:\n",
    "        print('you have guessed correct :)')\n",
    "        break\n",
    "    elif user_num > random_num:\n",
    "        print('User have entered a max number')\n",
    "    elif user_num < random_num:\n",
    "        print('User have entered a min number')\n",
    "    chance = 1+ chance\n",
    "    print(f'Total number chance is 7 and you have completed {chance} chance ')\n"
   ]
  }
 ],
 "metadata": {
  "kernelspec": {
   "display_name": "Python 3 (ipykernel)",
   "language": "python",
   "name": "python3"
  },
  "language_info": {
   "codemirror_mode": {
    "name": "ipython",
    "version": 3
   },
   "file_extension": ".py",
   "mimetype": "text/x-python",
   "name": "python",
   "nbconvert_exporter": "python",
   "pygments_lexer": "ipython3",
   "version": "3.11.5"
  }
 },
 "nbformat": 4,
 "nbformat_minor": 5
}
