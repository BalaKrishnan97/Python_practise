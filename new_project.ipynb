{
 "cells": [
  {
   "cell_type": "markdown",
   "id": "156fbd68",
   "metadata": {},
   "source": [
    "### Tasks"
   ]
  },
  {
   "cell_type": "code",
   "execution_count": null,
   "id": "81e83aa3",
   "metadata": {},
   "outputs": [],
   "source": [
    "'''Number guessing game\n",
    "User should enter a range of number and python will pick a number \n",
    "user should enter a number and python will check whether it is a same or not \n",
    "user has only 7 chances'''"
   ]
  },
  {
   "cell_type": "code",
   "execution_count": null,
   "id": "acc259b6",
   "metadata": {},
   "outputs": [],
   "source": [
    "import random\n",
    "first_num = int(input('Enter the 1st number: '))\n",
    "last_num = int(input('Enter the last number: '))\n",
    "random_num = round(random.uniform(first_num,last_num))\n",
    "print(f'random num is {random_num}')\n",
    "chance = 0\n",
    "while chance <7:\n",
    "    user_num = int(input('Enter the guessing number: '))\n",
    "    if user_num == random_num:\n",
    "        print('you have guessed correct :)')\n",
    "        break\n",
    "    elif user_num > random_num:\n",
    "        print('User have entered a max number')\n",
    "    elif user_num < random_num:\n",
    "        print('User have entered a min number')\n",
    "    chance = 1+ chance\n",
    "    print(f'Total number chance is 7 and you have completed {chance} chance ')"
   ]
  },
  {
   "cell_type": "code",
   "execution_count": null,
   "id": "cd74695e",
   "metadata": {},
   "outputs": [],
   "source": [
    "'''\n",
    ">> Create a program to guess the word using alphabets\n",
    "        -user 1 enter a list of words\n",
    "        -python picks a random word from it\n",
    "        -user 2 get count of letter in word + 1 chance to type the letter\n",
    "        -program dispays the position of the alphabet in the word if the alphabets is available\n",
    "'''"
   ]
  },
  {
   "cell_type": "code",
   "execution_count": 7,
   "id": "455717b2",
   "metadata": {},
   "outputs": [
    {
     "name": "stdout",
     "output_type": "stream",
     "text": [
      "Enter the word: apple\n",
      "Enter the word: banana\n",
      "Enter the word: cherry\n",
      "Enter the word: blackberry\n",
      "banana\n",
      "Enter the alphabet: n\n",
      "_\n",
      "_\n",
      "n _\n",
      "n _\n",
      "Enter the alphabet: a\n",
      "_\n",
      "a n a n a Enter the alphabet: b\n",
      "b a n a n a Enter the alphabet: l\n",
      "b a n a n a Enter the alphabet: p\n",
      "b a n a n a Enter the alphabet: p\n",
      "b a n a n a "
     ]
    }
   ],
   "source": [
    "import random\n",
    "words_list = []\n",
    "final = ''\n",
    "while len(words_list) < 4:\n",
    "    words_name = input('Enter the word: ')\n",
    "    words_list.append(words_name)\n",
    "v=random.choice(words_list)\n",
    "print(v)\n",
    "coun = 0\n",
    "while coun < len(v):\n",
    "    word = input('Enter the alphabet: ')\n",
    "    final += word\n",
    "    for new_letter in v:\n",
    "        if new_letter in final:\n",
    "            print(new_letter,end=\" \")\n",
    "        else:\n",
    "            print('_')\n",
    "    coun+=1"
   ]
  },
  {
   "cell_type": "code",
   "execution_count": null,
   "id": "41ac5e46",
   "metadata": {},
   "outputs": [],
   "source": []
  }
 ],
 "metadata": {
  "kernelspec": {
   "display_name": "Python 3 (ipykernel)",
   "language": "python",
   "name": "python3"
  },
  "language_info": {
   "codemirror_mode": {
    "name": "ipython",
    "version": 3
   },
   "file_extension": ".py",
   "mimetype": "text/x-python",
   "name": "python",
   "nbconvert_exporter": "python",
   "pygments_lexer": "ipython3",
   "version": "3.11.5"
  }
 },
 "nbformat": 4,
 "nbformat_minor": 5
}
